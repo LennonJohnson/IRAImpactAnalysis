{
 "cells": [
  {
   "cell_type": "markdown",
   "metadata": {},
   "source": [
    "## Analyzing the Impact The Inflation Reduction Act Had on Inlfation"
   ]
  },
  {
   "cell_type": "markdown",
   "metadata": {},
   "source": [
    "### Get Data from Fred API "
   ]
  },
  {
   "cell_type": "code",
   "execution_count": 1,
   "metadata": {},
   "outputs": [],
   "source": [
    "import pandas as pd \n",
    "import matplotlib as plt \n",
    "import numpy as np \n",
    "\n",
    "import fredapi as fd \n",
    "import plotly.express as px\n"
   ]
  },
  {
   "cell_type": "code",
   "execution_count": 2,
   "metadata": {},
   "outputs": [],
   "source": [
    "fred=fd.Fred(api_key='d376866b204fcf739250046f7c16f5aa')"
   ]
  },
  {
   "cell_type": "code",
   "execution_count": 3,
   "metadata": {},
   "outputs": [
    {
     "data": {
      "text/html": [
       "<div>\n",
       "<style scoped>\n",
       "    .dataframe tbody tr th:only-of-type {\n",
       "        vertical-align: middle;\n",
       "    }\n",
       "\n",
       "    .dataframe tbody tr th {\n",
       "        vertical-align: top;\n",
       "    }\n",
       "\n",
       "    .dataframe thead th {\n",
       "        text-align: right;\n",
       "    }\n",
       "</style>\n",
       "<table border=\"1\" class=\"dataframe\">\n",
       "  <thead>\n",
       "    <tr style=\"text-align: right;\">\n",
       "      <th></th>\n",
       "      <th>id</th>\n",
       "      <th>realtime_start</th>\n",
       "      <th>realtime_end</th>\n",
       "      <th>title</th>\n",
       "      <th>observation_start</th>\n",
       "      <th>observation_end</th>\n",
       "      <th>frequency</th>\n",
       "      <th>frequency_short</th>\n",
       "      <th>units</th>\n",
       "      <th>units_short</th>\n",
       "      <th>seasonal_adjustment</th>\n",
       "      <th>seasonal_adjustment_short</th>\n",
       "      <th>last_updated</th>\n",
       "      <th>popularity</th>\n",
       "      <th>notes</th>\n",
       "    </tr>\n",
       "    <tr>\n",
       "      <th>series id</th>\n",
       "      <th></th>\n",
       "      <th></th>\n",
       "      <th></th>\n",
       "      <th></th>\n",
       "      <th></th>\n",
       "      <th></th>\n",
       "      <th></th>\n",
       "      <th></th>\n",
       "      <th></th>\n",
       "      <th></th>\n",
       "      <th></th>\n",
       "      <th></th>\n",
       "      <th></th>\n",
       "      <th></th>\n",
       "      <th></th>\n",
       "    </tr>\n",
       "  </thead>\n",
       "  <tbody>\n",
       "    <tr>\n",
       "      <th>CPIAUCSL</th>\n",
       "      <td>CPIAUCSL</td>\n",
       "      <td>2024-05-29</td>\n",
       "      <td>2024-05-29</td>\n",
       "      <td>Consumer Price Index for All Urban Consumers: ...</td>\n",
       "      <td>1947-01-01</td>\n",
       "      <td>2024-04-01</td>\n",
       "      <td>Monthly</td>\n",
       "      <td>M</td>\n",
       "      <td>Index 1982-1984=100</td>\n",
       "      <td>Index 1982-1984=100</td>\n",
       "      <td>Seasonally Adjusted</td>\n",
       "      <td>SA</td>\n",
       "      <td>2024-05-15 07:40:37-05:00</td>\n",
       "      <td>95</td>\n",
       "      <td>The Consumer Price Index for All Urban Consume...</td>\n",
       "    </tr>\n",
       "    <tr>\n",
       "      <th>CPIAUCNS</th>\n",
       "      <td>CPIAUCNS</td>\n",
       "      <td>2024-05-29</td>\n",
       "      <td>2024-05-29</td>\n",
       "      <td>Consumer Price Index for All Urban Consumers: ...</td>\n",
       "      <td>1913-01-01</td>\n",
       "      <td>2024-04-01</td>\n",
       "      <td>Monthly</td>\n",
       "      <td>M</td>\n",
       "      <td>Index 1982-1984=100</td>\n",
       "      <td>Index 1982-1984=100</td>\n",
       "      <td>Not Seasonally Adjusted</td>\n",
       "      <td>NSA</td>\n",
       "      <td>2024-05-15 07:40:51-05:00</td>\n",
       "      <td>73</td>\n",
       "      <td>Handbook of Methods (https://www.bls.gov/opub/...</td>\n",
       "    </tr>\n",
       "    <tr>\n",
       "      <th>CUUS0000SA0</th>\n",
       "      <td>CUUS0000SA0</td>\n",
       "      <td>2024-05-29</td>\n",
       "      <td>2024-05-29</td>\n",
       "      <td>Consumer Price Index for All Urban Consumers: ...</td>\n",
       "      <td>1984-01-01</td>\n",
       "      <td>2023-07-01</td>\n",
       "      <td>Semiannual</td>\n",
       "      <td>SA</td>\n",
       "      <td>Index 1982-1984=100</td>\n",
       "      <td>Index 1982-1984=100</td>\n",
       "      <td>Not Seasonally Adjusted</td>\n",
       "      <td>NSA</td>\n",
       "      <td>2024-01-11 07:40:07-06:00</td>\n",
       "      <td>46</td>\n",
       "      <td>None</td>\n",
       "    </tr>\n",
       "    <tr>\n",
       "      <th>CPILFESL</th>\n",
       "      <td>CPILFESL</td>\n",
       "      <td>2024-05-29</td>\n",
       "      <td>2024-05-29</td>\n",
       "      <td>Consumer Price Index for All Urban Consumers: ...</td>\n",
       "      <td>1957-01-01</td>\n",
       "      <td>2024-04-01</td>\n",
       "      <td>Monthly</td>\n",
       "      <td>M</td>\n",
       "      <td>Index 1982-1984=100</td>\n",
       "      <td>Index 1982-1984=100</td>\n",
       "      <td>Seasonally Adjusted</td>\n",
       "      <td>SA</td>\n",
       "      <td>2024-05-15 07:40:49-05:00</td>\n",
       "      <td>82</td>\n",
       "      <td>The \"Consumer Price Index for All Urban Consum...</td>\n",
       "    </tr>\n",
       "    <tr>\n",
       "      <th>CPILFENS</th>\n",
       "      <td>CPILFENS</td>\n",
       "      <td>2024-05-29</td>\n",
       "      <td>2024-05-29</td>\n",
       "      <td>Consumer Price Index for All Urban Consumers: ...</td>\n",
       "      <td>1957-01-01</td>\n",
       "      <td>2024-04-01</td>\n",
       "      <td>Monthly</td>\n",
       "      <td>M</td>\n",
       "      <td>Index 1982-1984=100</td>\n",
       "      <td>Index 1982-1984=100</td>\n",
       "      <td>Not Seasonally Adjusted</td>\n",
       "      <td>NSA</td>\n",
       "      <td>2024-05-15 07:40:56-05:00</td>\n",
       "      <td>53</td>\n",
       "      <td>The “Consumer Price Index for All Urban Consum...</td>\n",
       "    </tr>\n",
       "    <tr>\n",
       "      <th>CUUS0000SA0L1E</th>\n",
       "      <td>CUUS0000SA0L1E</td>\n",
       "      <td>2024-05-29</td>\n",
       "      <td>2024-05-29</td>\n",
       "      <td>Consumer Price Index for All Urban Consumers: ...</td>\n",
       "      <td>1984-01-01</td>\n",
       "      <td>2023-07-01</td>\n",
       "      <td>Semiannual</td>\n",
       "      <td>SA</td>\n",
       "      <td>Index 1982-1984=100</td>\n",
       "      <td>Index 1982-1984=100</td>\n",
       "      <td>Not Seasonally Adjusted</td>\n",
       "      <td>NSA</td>\n",
       "      <td>2024-01-11 07:40:13-06:00</td>\n",
       "      <td>10</td>\n",
       "      <td>None</td>\n",
       "    </tr>\n",
       "    <tr>\n",
       "      <th>APU0000708111</th>\n",
       "      <td>APU0000708111</td>\n",
       "      <td>2024-05-29</td>\n",
       "      <td>2024-05-29</td>\n",
       "      <td>Average Price: Eggs, Grade A, Large (Cost per ...</td>\n",
       "      <td>1980-01-01</td>\n",
       "      <td>2024-04-01</td>\n",
       "      <td>Monthly</td>\n",
       "      <td>M</td>\n",
       "      <td>U.S. Dollars</td>\n",
       "      <td>U.S. $</td>\n",
       "      <td>Not Seasonally Adjusted</td>\n",
       "      <td>NSA</td>\n",
       "      <td>2024-05-15 07:34:02-05:00</td>\n",
       "      <td>76</td>\n",
       "      <td>Large white, Grade A chicken eggs, sold in a c...</td>\n",
       "    </tr>\n",
       "    <tr>\n",
       "      <th>APU0000703112</th>\n",
       "      <td>APU0000703112</td>\n",
       "      <td>2024-05-29</td>\n",
       "      <td>2024-05-29</td>\n",
       "      <td>Average Price: Ground Beef, 100% Beef (Cost pe...</td>\n",
       "      <td>1984-01-01</td>\n",
       "      <td>2024-04-01</td>\n",
       "      <td>Monthly</td>\n",
       "      <td>M</td>\n",
       "      <td>U.S. Dollars</td>\n",
       "      <td>U.S. $</td>\n",
       "      <td>Not Seasonally Adjusted</td>\n",
       "      <td>NSA</td>\n",
       "      <td>2024-05-15 07:34:02-05:00</td>\n",
       "      <td>68</td>\n",
       "      <td>Fresh regular 100% ground beef excluding round...</td>\n",
       "    </tr>\n",
       "    <tr>\n",
       "      <th>APU0000702111</th>\n",
       "      <td>APU0000702111</td>\n",
       "      <td>2024-05-29</td>\n",
       "      <td>2024-05-29</td>\n",
       "      <td>Average Price: Bread, White, Pan (Cost per Pou...</td>\n",
       "      <td>1980-01-01</td>\n",
       "      <td>2024-04-01</td>\n",
       "      <td>Monthly</td>\n",
       "      <td>M</td>\n",
       "      <td>U.S. Dollars</td>\n",
       "      <td>U.S. $</td>\n",
       "      <td>Not Seasonally Adjusted</td>\n",
       "      <td>NSA</td>\n",
       "      <td>2024-05-15 07:34:03-05:00</td>\n",
       "      <td>68</td>\n",
       "      <td>All white pre-packaged regular bread regardles...</td>\n",
       "    </tr>\n",
       "    <tr>\n",
       "      <th>APU000072610</th>\n",
       "      <td>APU000072610</td>\n",
       "      <td>2024-05-29</td>\n",
       "      <td>2024-05-29</td>\n",
       "      <td>Average Price: Electricity per Kilowatt-Hour i...</td>\n",
       "      <td>1978-11-01</td>\n",
       "      <td>2024-04-01</td>\n",
       "      <td>Monthly</td>\n",
       "      <td>M</td>\n",
       "      <td>U.S. Dollars</td>\n",
       "      <td>U.S. $</td>\n",
       "      <td>Not Seasonally Adjusted</td>\n",
       "      <td>NSA</td>\n",
       "      <td>2024-05-15 07:33:03-05:00</td>\n",
       "      <td>67</td>\n",
       "      <td>All electricity.  Average consumer prices are ...</td>\n",
       "    </tr>\n",
       "  </tbody>\n",
       "</table>\n",
       "</div>"
      ],
      "text/plain": [
       "                            id realtime_start realtime_end  \\\n",
       "series id                                                    \n",
       "CPIAUCSL              CPIAUCSL     2024-05-29   2024-05-29   \n",
       "CPIAUCNS              CPIAUCNS     2024-05-29   2024-05-29   \n",
       "CUUS0000SA0        CUUS0000SA0     2024-05-29   2024-05-29   \n",
       "CPILFESL              CPILFESL     2024-05-29   2024-05-29   \n",
       "CPILFENS              CPILFENS     2024-05-29   2024-05-29   \n",
       "CUUS0000SA0L1E  CUUS0000SA0L1E     2024-05-29   2024-05-29   \n",
       "APU0000708111    APU0000708111     2024-05-29   2024-05-29   \n",
       "APU0000703112    APU0000703112     2024-05-29   2024-05-29   \n",
       "APU0000702111    APU0000702111     2024-05-29   2024-05-29   \n",
       "APU000072610      APU000072610     2024-05-29   2024-05-29   \n",
       "\n",
       "                                                            title  \\\n",
       "series id                                                           \n",
       "CPIAUCSL        Consumer Price Index for All Urban Consumers: ...   \n",
       "CPIAUCNS        Consumer Price Index for All Urban Consumers: ...   \n",
       "CUUS0000SA0     Consumer Price Index for All Urban Consumers: ...   \n",
       "CPILFESL        Consumer Price Index for All Urban Consumers: ...   \n",
       "CPILFENS        Consumer Price Index for All Urban Consumers: ...   \n",
       "CUUS0000SA0L1E  Consumer Price Index for All Urban Consumers: ...   \n",
       "APU0000708111   Average Price: Eggs, Grade A, Large (Cost per ...   \n",
       "APU0000703112   Average Price: Ground Beef, 100% Beef (Cost pe...   \n",
       "APU0000702111   Average Price: Bread, White, Pan (Cost per Pou...   \n",
       "APU000072610    Average Price: Electricity per Kilowatt-Hour i...   \n",
       "\n",
       "               observation_start observation_end   frequency frequency_short  \\\n",
       "series id                                                                      \n",
       "CPIAUCSL              1947-01-01      2024-04-01     Monthly               M   \n",
       "CPIAUCNS              1913-01-01      2024-04-01     Monthly               M   \n",
       "CUUS0000SA0           1984-01-01      2023-07-01  Semiannual              SA   \n",
       "CPILFESL              1957-01-01      2024-04-01     Monthly               M   \n",
       "CPILFENS              1957-01-01      2024-04-01     Monthly               M   \n",
       "CUUS0000SA0L1E        1984-01-01      2023-07-01  Semiannual              SA   \n",
       "APU0000708111         1980-01-01      2024-04-01     Monthly               M   \n",
       "APU0000703112         1984-01-01      2024-04-01     Monthly               M   \n",
       "APU0000702111         1980-01-01      2024-04-01     Monthly               M   \n",
       "APU000072610          1978-11-01      2024-04-01     Monthly               M   \n",
       "\n",
       "                              units          units_short  \\\n",
       "series id                                                  \n",
       "CPIAUCSL        Index 1982-1984=100  Index 1982-1984=100   \n",
       "CPIAUCNS        Index 1982-1984=100  Index 1982-1984=100   \n",
       "CUUS0000SA0     Index 1982-1984=100  Index 1982-1984=100   \n",
       "CPILFESL        Index 1982-1984=100  Index 1982-1984=100   \n",
       "CPILFENS        Index 1982-1984=100  Index 1982-1984=100   \n",
       "CUUS0000SA0L1E  Index 1982-1984=100  Index 1982-1984=100   \n",
       "APU0000708111          U.S. Dollars               U.S. $   \n",
       "APU0000703112          U.S. Dollars               U.S. $   \n",
       "APU0000702111          U.S. Dollars               U.S. $   \n",
       "APU000072610           U.S. Dollars               U.S. $   \n",
       "\n",
       "                    seasonal_adjustment seasonal_adjustment_short  \\\n",
       "series id                                                           \n",
       "CPIAUCSL            Seasonally Adjusted                        SA   \n",
       "CPIAUCNS        Not Seasonally Adjusted                       NSA   \n",
       "CUUS0000SA0     Not Seasonally Adjusted                       NSA   \n",
       "CPILFESL            Seasonally Adjusted                        SA   \n",
       "CPILFENS        Not Seasonally Adjusted                       NSA   \n",
       "CUUS0000SA0L1E  Not Seasonally Adjusted                       NSA   \n",
       "APU0000708111   Not Seasonally Adjusted                       NSA   \n",
       "APU0000703112   Not Seasonally Adjusted                       NSA   \n",
       "APU0000702111   Not Seasonally Adjusted                       NSA   \n",
       "APU000072610    Not Seasonally Adjusted                       NSA   \n",
       "\n",
       "                             last_updated popularity  \\\n",
       "series id                                              \n",
       "CPIAUCSL        2024-05-15 07:40:37-05:00         95   \n",
       "CPIAUCNS        2024-05-15 07:40:51-05:00         73   \n",
       "CUUS0000SA0     2024-01-11 07:40:07-06:00         46   \n",
       "CPILFESL        2024-05-15 07:40:49-05:00         82   \n",
       "CPILFENS        2024-05-15 07:40:56-05:00         53   \n",
       "CUUS0000SA0L1E  2024-01-11 07:40:13-06:00         10   \n",
       "APU0000708111   2024-05-15 07:34:02-05:00         76   \n",
       "APU0000703112   2024-05-15 07:34:02-05:00         68   \n",
       "APU0000702111   2024-05-15 07:34:03-05:00         68   \n",
       "APU000072610    2024-05-15 07:33:03-05:00         67   \n",
       "\n",
       "                                                            notes  \n",
       "series id                                                          \n",
       "CPIAUCSL        The Consumer Price Index for All Urban Consume...  \n",
       "CPIAUCNS        Handbook of Methods (https://www.bls.gov/opub/...  \n",
       "CUUS0000SA0                                                  None  \n",
       "CPILFESL        The \"Consumer Price Index for All Urban Consum...  \n",
       "CPILFENS        The “Consumer Price Index for All Urban Consum...  \n",
       "CUUS0000SA0L1E                                               None  \n",
       "APU0000708111   Large white, Grade A chicken eggs, sold in a c...  \n",
       "APU0000703112   Fresh regular 100% ground beef excluding round...  \n",
       "APU0000702111   All white pre-packaged regular bread regardles...  \n",
       "APU000072610    All electricity.  Average consumer prices are ...  "
      ]
     },
     "execution_count": 3,
     "metadata": {},
     "output_type": "execute_result"
    }
   ],
   "source": [
    "data = fred.search(\"Consumer Price Index for All Urban Consumers: All Items in U.S. City Average\")\n",
    "data.head(10)"
   ]
  },
  {
   "cell_type": "code",
   "execution_count": 4,
   "metadata": {},
   "outputs": [
    {
     "data": {
      "text/plain": [
       "1947-01-01        NaN\n",
       "1947-02-01        NaN\n",
       "1947-03-01        NaN\n",
       "1947-04-01        NaN\n",
       "1947-05-01        NaN\n",
       "               ...   \n",
       "2023-12-01    3.32316\n",
       "2024-01-01    3.10598\n",
       "2024-02-01    3.16574\n",
       "2024-03-01    3.47513\n",
       "2024-04-01    3.35773\n",
       "Name: values, Length: 928, dtype: float64"
      ]
     },
     "execution_count": 4,
     "metadata": {},
     "output_type": "execute_result"
    }
   ],
   "source": [
    "cpi = fred.get_series('CPIAUCSL', units='pc1')\n",
    "cpi.name = 'values'\n",
    "cpi"
   ]
  },
  {
   "cell_type": "code",
   "execution_count": 6,
   "metadata": {},
   "outputs": [
    {
     "data": {
      "text/html": [
       "<div>\n",
       "<style scoped>\n",
       "    .dataframe tbody tr th:only-of-type {\n",
       "        vertical-align: middle;\n",
       "    }\n",
       "\n",
       "    .dataframe tbody tr th {\n",
       "        vertical-align: top;\n",
       "    }\n",
       "\n",
       "    .dataframe thead th {\n",
       "        text-align: right;\n",
       "    }\n",
       "</style>\n",
       "<table border=\"1\" class=\"dataframe\">\n",
       "  <thead>\n",
       "    <tr style=\"text-align: right;\">\n",
       "      <th></th>\n",
       "      <th>index</th>\n",
       "      <th>values</th>\n",
       "    </tr>\n",
       "  </thead>\n",
       "  <tbody>\n",
       "    <tr>\n",
       "      <th>0</th>\n",
       "      <td>1947-01-01</td>\n",
       "      <td>NaN</td>\n",
       "    </tr>\n",
       "    <tr>\n",
       "      <th>1</th>\n",
       "      <td>1947-02-01</td>\n",
       "      <td>NaN</td>\n",
       "    </tr>\n",
       "    <tr>\n",
       "      <th>2</th>\n",
       "      <td>1947-03-01</td>\n",
       "      <td>NaN</td>\n",
       "    </tr>\n",
       "    <tr>\n",
       "      <th>3</th>\n",
       "      <td>1947-04-01</td>\n",
       "      <td>NaN</td>\n",
       "    </tr>\n",
       "    <tr>\n",
       "      <th>4</th>\n",
       "      <td>1947-05-01</td>\n",
       "      <td>NaN</td>\n",
       "    </tr>\n",
       "    <tr>\n",
       "      <th>...</th>\n",
       "      <td>...</td>\n",
       "      <td>...</td>\n",
       "    </tr>\n",
       "    <tr>\n",
       "      <th>923</th>\n",
       "      <td>2023-12-01</td>\n",
       "      <td>3.32316</td>\n",
       "    </tr>\n",
       "    <tr>\n",
       "      <th>924</th>\n",
       "      <td>2024-01-01</td>\n",
       "      <td>3.10598</td>\n",
       "    </tr>\n",
       "    <tr>\n",
       "      <th>925</th>\n",
       "      <td>2024-02-01</td>\n",
       "      <td>3.16574</td>\n",
       "    </tr>\n",
       "    <tr>\n",
       "      <th>926</th>\n",
       "      <td>2024-03-01</td>\n",
       "      <td>3.47513</td>\n",
       "    </tr>\n",
       "    <tr>\n",
       "      <th>927</th>\n",
       "      <td>2024-04-01</td>\n",
       "      <td>3.35773</td>\n",
       "    </tr>\n",
       "  </tbody>\n",
       "</table>\n",
       "<p>928 rows × 2 columns</p>\n",
       "</div>"
      ],
      "text/plain": [
       "         index   values\n",
       "0   1947-01-01      NaN\n",
       "1   1947-02-01      NaN\n",
       "2   1947-03-01      NaN\n",
       "3   1947-04-01      NaN\n",
       "4   1947-05-01      NaN\n",
       "..         ...      ...\n",
       "923 2023-12-01  3.32316\n",
       "924 2024-01-01  3.10598\n",
       "925 2024-02-01  3.16574\n",
       "926 2024-03-01  3.47513\n",
       "927 2024-04-01  3.35773\n",
       "\n",
       "[928 rows x 2 columns]"
      ]
     },
     "execution_count": 6,
     "metadata": {},
     "output_type": "execute_result"
    }
   ],
   "source": [
    "df = pd.DataFrame(cpi).reset_index()\n",
    "df"
   ]
  },
  {
   "cell_type": "markdown",
   "metadata": {},
   "source": [
    "Split the data into before Inflation Reduction Act, and after "
   ]
  },
  {
   "cell_type": "code",
   "execution_count": 19,
   "metadata": {},
   "outputs": [
    {
     "data": {
      "text/html": [
       "<div>\n",
       "<style scoped>\n",
       "    .dataframe tbody tr th:only-of-type {\n",
       "        vertical-align: middle;\n",
       "    }\n",
       "\n",
       "    .dataframe tbody tr th {\n",
       "        vertical-align: top;\n",
       "    }\n",
       "\n",
       "    .dataframe thead th {\n",
       "        text-align: right;\n",
       "    }\n",
       "</style>\n",
       "<table border=\"1\" class=\"dataframe\">\n",
       "  <thead>\n",
       "    <tr style=\"text-align: right;\">\n",
       "      <th></th>\n",
       "      <th>index</th>\n",
       "      <th>values</th>\n",
       "    </tr>\n",
       "  </thead>\n",
       "  <tbody>\n",
       "    <tr>\n",
       "      <th>828</th>\n",
       "      <td>2016-01-01</td>\n",
       "      <td>1.23750</td>\n",
       "    </tr>\n",
       "    <tr>\n",
       "      <th>829</th>\n",
       "      <td>2016-02-01</td>\n",
       "      <td>0.84728</td>\n",
       "    </tr>\n",
       "    <tr>\n",
       "      <th>830</th>\n",
       "      <td>2016-03-01</td>\n",
       "      <td>0.89162</td>\n",
       "    </tr>\n",
       "    <tr>\n",
       "      <th>831</th>\n",
       "      <td>2016-04-01</td>\n",
       "      <td>1.17263</td>\n",
       "    </tr>\n",
       "    <tr>\n",
       "      <th>832</th>\n",
       "      <td>2016-05-01</td>\n",
       "      <td>1.07848</td>\n",
       "    </tr>\n",
       "    <tr>\n",
       "      <th>...</th>\n",
       "      <td>...</td>\n",
       "      <td>...</td>\n",
       "    </tr>\n",
       "    <tr>\n",
       "      <th>902</th>\n",
       "      <td>2022-03-01</td>\n",
       "      <td>8.54743</td>\n",
       "    </tr>\n",
       "    <tr>\n",
       "      <th>903</th>\n",
       "      <td>2022-04-01</td>\n",
       "      <td>8.25186</td>\n",
       "    </tr>\n",
       "    <tr>\n",
       "      <th>904</th>\n",
       "      <td>2022-05-01</td>\n",
       "      <td>8.53300</td>\n",
       "    </tr>\n",
       "    <tr>\n",
       "      <th>905</th>\n",
       "      <td>2022-06-01</td>\n",
       "      <td>8.98974</td>\n",
       "    </tr>\n",
       "    <tr>\n",
       "      <th>906</th>\n",
       "      <td>2022-07-01</td>\n",
       "      <td>8.44982</td>\n",
       "    </tr>\n",
       "  </tbody>\n",
       "</table>\n",
       "<p>79 rows × 2 columns</p>\n",
       "</div>"
      ],
      "text/plain": [
       "         index   values\n",
       "828 2016-01-01  1.23750\n",
       "829 2016-02-01  0.84728\n",
       "830 2016-03-01  0.89162\n",
       "831 2016-04-01  1.17263\n",
       "832 2016-05-01  1.07848\n",
       "..         ...      ...\n",
       "902 2022-03-01  8.54743\n",
       "903 2022-04-01  8.25186\n",
       "904 2022-05-01  8.53300\n",
       "905 2022-06-01  8.98974\n",
       "906 2022-07-01  8.44982\n",
       "\n",
       "[79 rows x 2 columns]"
      ]
     },
     "execution_count": 19,
     "metadata": {},
     "output_type": "execute_result"
    }
   ],
   "source": [
    "df_pre_ira = df[df['index'] > '2015-12-01']\n",
    "df_pre_ira = df_pre_ira[df_pre_ira['index'] < '2022-08-01']\n",
    "df_post_ira = df[df['index'] >= '2022-08-01']\n",
    "df_pre_ira"
   ]
  },
  {
   "cell_type": "markdown",
   "metadata": {},
   "source": [
    "Display inflation leading into IRA"
   ]
  },
  {
   "cell_type": "code",
   "execution_count": 20,
   "metadata": {},
   "outputs": [
    {
     "data": {
      "application/vnd.plotly.v1+json": {
       "config": {
        "plotlyServerURL": "https://plot.ly"
       },
       "data": [
        {
         "hovertemplate": "index=%{x}<br>values=%{y}<extra></extra>",
         "legendgroup": "",
         "line": {
          "color": "#636efa",
          "dash": "solid"
         },
         "marker": {
          "symbol": "circle"
         },
         "mode": "lines",
         "name": "",
         "orientation": "v",
         "showlegend": false,
         "type": "scatter",
         "x": [
          "2016-01-01T00:00:00",
          "2016-02-01T00:00:00",
          "2016-03-01T00:00:00",
          "2016-04-01T00:00:00",
          "2016-05-01T00:00:00",
          "2016-06-01T00:00:00",
          "2016-07-01T00:00:00",
          "2016-08-01T00:00:00",
          "2016-09-01T00:00:00",
          "2016-10-01T00:00:00",
          "2016-11-01T00:00:00",
          "2016-12-01T00:00:00",
          "2017-01-01T00:00:00",
          "2017-02-01T00:00:00",
          "2017-03-01T00:00:00",
          "2017-04-01T00:00:00",
          "2017-05-01T00:00:00",
          "2017-06-01T00:00:00",
          "2017-07-01T00:00:00",
          "2017-08-01T00:00:00",
          "2017-09-01T00:00:00",
          "2017-10-01T00:00:00",
          "2017-11-01T00:00:00",
          "2017-12-01T00:00:00",
          "2018-01-01T00:00:00",
          "2018-02-01T00:00:00",
          "2018-03-01T00:00:00",
          "2018-04-01T00:00:00",
          "2018-05-01T00:00:00",
          "2018-06-01T00:00:00",
          "2018-07-01T00:00:00",
          "2018-08-01T00:00:00",
          "2018-09-01T00:00:00",
          "2018-10-01T00:00:00",
          "2018-11-01T00:00:00",
          "2018-12-01T00:00:00",
          "2019-01-01T00:00:00",
          "2019-02-01T00:00:00",
          "2019-03-01T00:00:00",
          "2019-04-01T00:00:00",
          "2019-05-01T00:00:00",
          "2019-06-01T00:00:00",
          "2019-07-01T00:00:00",
          "2019-08-01T00:00:00",
          "2019-09-01T00:00:00",
          "2019-10-01T00:00:00",
          "2019-11-01T00:00:00",
          "2019-12-01T00:00:00",
          "2020-01-01T00:00:00",
          "2020-02-01T00:00:00",
          "2020-03-01T00:00:00",
          "2020-04-01T00:00:00",
          "2020-05-01T00:00:00",
          "2020-06-01T00:00:00",
          "2020-07-01T00:00:00",
          "2020-08-01T00:00:00",
          "2020-09-01T00:00:00",
          "2020-10-01T00:00:00",
          "2020-11-01T00:00:00",
          "2020-12-01T00:00:00",
          "2021-01-01T00:00:00",
          "2021-02-01T00:00:00",
          "2021-03-01T00:00:00",
          "2021-04-01T00:00:00",
          "2021-05-01T00:00:00",
          "2021-06-01T00:00:00",
          "2021-07-01T00:00:00",
          "2021-08-01T00:00:00",
          "2021-09-01T00:00:00",
          "2021-10-01T00:00:00",
          "2021-11-01T00:00:00",
          "2021-12-01T00:00:00",
          "2022-01-01T00:00:00",
          "2022-02-01T00:00:00",
          "2022-03-01T00:00:00",
          "2022-04-01T00:00:00",
          "2022-05-01T00:00:00",
          "2022-06-01T00:00:00",
          "2022-07-01T00:00:00"
         ],
         "xaxis": "x",
         "y": [
          1.2375,
          0.84728,
          0.89162,
          1.17263,
          1.07848,
          1.07929,
          0.86836,
          1.05532,
          1.54864,
          1.68592,
          1.68433,
          2.0508,
          2.51039,
          2.81036,
          2.4412,
          2.17622,
          1.85634,
          1.64057,
          1.72511,
          1.92812,
          2.18057,
          2.02076,
          2.17249,
          2.12993,
          2.15132,
          2.26347,
          2.33095,
          2.471,
          2.78192,
          2.80755,
          2.85412,
          2.64292,
          2.33206,
          2.49203,
          2.14733,
          2.00238,
          1.48759,
          1.51886,
          1.88319,
          2.00058,
          1.79591,
          1.67119,
          1.82633,
          1.73764,
          1.6845,
          1.73397,
          2.09229,
          2.31953,
          2.51226,
          2.33974,
          1.52314,
          0.34988,
          0.21622,
          0.70177,
          1.01876,
          1.3006,
          1.37308,
          1.20317,
          1.16954,
          1.30495,
          1.3951,
          1.67293,
          2.61863,
          4.14874,
          4.92636,
          5.31509,
          5.25758,
          5.17531,
          5.36101,
          6.21904,
          6.86253,
          7.17658,
          7.56977,
          7.94892,
          8.54743,
          8.25186,
          8.533,
          8.98974,
          8.44982
         ],
         "yaxis": "y"
        }
       ],
       "layout": {
        "legend": {
         "tracegroupgap": 0
        },
        "template": {
         "data": {
          "bar": [
           {
            "error_x": {
             "color": "#2a3f5f"
            },
            "error_y": {
             "color": "#2a3f5f"
            },
            "marker": {
             "line": {
              "color": "#E5ECF6",
              "width": 0.5
             },
             "pattern": {
              "fillmode": "overlay",
              "size": 10,
              "solidity": 0.2
             }
            },
            "type": "bar"
           }
          ],
          "barpolar": [
           {
            "marker": {
             "line": {
              "color": "#E5ECF6",
              "width": 0.5
             },
             "pattern": {
              "fillmode": "overlay",
              "size": 10,
              "solidity": 0.2
             }
            },
            "type": "barpolar"
           }
          ],
          "carpet": [
           {
            "aaxis": {
             "endlinecolor": "#2a3f5f",
             "gridcolor": "white",
             "linecolor": "white",
             "minorgridcolor": "white",
             "startlinecolor": "#2a3f5f"
            },
            "baxis": {
             "endlinecolor": "#2a3f5f",
             "gridcolor": "white",
             "linecolor": "white",
             "minorgridcolor": "white",
             "startlinecolor": "#2a3f5f"
            },
            "type": "carpet"
           }
          ],
          "choropleth": [
           {
            "colorbar": {
             "outlinewidth": 0,
             "ticks": ""
            },
            "type": "choropleth"
           }
          ],
          "contour": [
           {
            "colorbar": {
             "outlinewidth": 0,
             "ticks": ""
            },
            "colorscale": [
             [
              0,
              "#0d0887"
             ],
             [
              0.1111111111111111,
              "#46039f"
             ],
             [
              0.2222222222222222,
              "#7201a8"
             ],
             [
              0.3333333333333333,
              "#9c179e"
             ],
             [
              0.4444444444444444,
              "#bd3786"
             ],
             [
              0.5555555555555556,
              "#d8576b"
             ],
             [
              0.6666666666666666,
              "#ed7953"
             ],
             [
              0.7777777777777778,
              "#fb9f3a"
             ],
             [
              0.8888888888888888,
              "#fdca26"
             ],
             [
              1,
              "#f0f921"
             ]
            ],
            "type": "contour"
           }
          ],
          "contourcarpet": [
           {
            "colorbar": {
             "outlinewidth": 0,
             "ticks": ""
            },
            "type": "contourcarpet"
           }
          ],
          "heatmap": [
           {
            "colorbar": {
             "outlinewidth": 0,
             "ticks": ""
            },
            "colorscale": [
             [
              0,
              "#0d0887"
             ],
             [
              0.1111111111111111,
              "#46039f"
             ],
             [
              0.2222222222222222,
              "#7201a8"
             ],
             [
              0.3333333333333333,
              "#9c179e"
             ],
             [
              0.4444444444444444,
              "#bd3786"
             ],
             [
              0.5555555555555556,
              "#d8576b"
             ],
             [
              0.6666666666666666,
              "#ed7953"
             ],
             [
              0.7777777777777778,
              "#fb9f3a"
             ],
             [
              0.8888888888888888,
              "#fdca26"
             ],
             [
              1,
              "#f0f921"
             ]
            ],
            "type": "heatmap"
           }
          ],
          "heatmapgl": [
           {
            "colorbar": {
             "outlinewidth": 0,
             "ticks": ""
            },
            "colorscale": [
             [
              0,
              "#0d0887"
             ],
             [
              0.1111111111111111,
              "#46039f"
             ],
             [
              0.2222222222222222,
              "#7201a8"
             ],
             [
              0.3333333333333333,
              "#9c179e"
             ],
             [
              0.4444444444444444,
              "#bd3786"
             ],
             [
              0.5555555555555556,
              "#d8576b"
             ],
             [
              0.6666666666666666,
              "#ed7953"
             ],
             [
              0.7777777777777778,
              "#fb9f3a"
             ],
             [
              0.8888888888888888,
              "#fdca26"
             ],
             [
              1,
              "#f0f921"
             ]
            ],
            "type": "heatmapgl"
           }
          ],
          "histogram": [
           {
            "marker": {
             "pattern": {
              "fillmode": "overlay",
              "size": 10,
              "solidity": 0.2
             }
            },
            "type": "histogram"
           }
          ],
          "histogram2d": [
           {
            "colorbar": {
             "outlinewidth": 0,
             "ticks": ""
            },
            "colorscale": [
             [
              0,
              "#0d0887"
             ],
             [
              0.1111111111111111,
              "#46039f"
             ],
             [
              0.2222222222222222,
              "#7201a8"
             ],
             [
              0.3333333333333333,
              "#9c179e"
             ],
             [
              0.4444444444444444,
              "#bd3786"
             ],
             [
              0.5555555555555556,
              "#d8576b"
             ],
             [
              0.6666666666666666,
              "#ed7953"
             ],
             [
              0.7777777777777778,
              "#fb9f3a"
             ],
             [
              0.8888888888888888,
              "#fdca26"
             ],
             [
              1,
              "#f0f921"
             ]
            ],
            "type": "histogram2d"
           }
          ],
          "histogram2dcontour": [
           {
            "colorbar": {
             "outlinewidth": 0,
             "ticks": ""
            },
            "colorscale": [
             [
              0,
              "#0d0887"
             ],
             [
              0.1111111111111111,
              "#46039f"
             ],
             [
              0.2222222222222222,
              "#7201a8"
             ],
             [
              0.3333333333333333,
              "#9c179e"
             ],
             [
              0.4444444444444444,
              "#bd3786"
             ],
             [
              0.5555555555555556,
              "#d8576b"
             ],
             [
              0.6666666666666666,
              "#ed7953"
             ],
             [
              0.7777777777777778,
              "#fb9f3a"
             ],
             [
              0.8888888888888888,
              "#fdca26"
             ],
             [
              1,
              "#f0f921"
             ]
            ],
            "type": "histogram2dcontour"
           }
          ],
          "mesh3d": [
           {
            "colorbar": {
             "outlinewidth": 0,
             "ticks": ""
            },
            "type": "mesh3d"
           }
          ],
          "parcoords": [
           {
            "line": {
             "colorbar": {
              "outlinewidth": 0,
              "ticks": ""
             }
            },
            "type": "parcoords"
           }
          ],
          "pie": [
           {
            "automargin": true,
            "type": "pie"
           }
          ],
          "scatter": [
           {
            "fillpattern": {
             "fillmode": "overlay",
             "size": 10,
             "solidity": 0.2
            },
            "type": "scatter"
           }
          ],
          "scatter3d": [
           {
            "line": {
             "colorbar": {
              "outlinewidth": 0,
              "ticks": ""
             }
            },
            "marker": {
             "colorbar": {
              "outlinewidth": 0,
              "ticks": ""
             }
            },
            "type": "scatter3d"
           }
          ],
          "scattercarpet": [
           {
            "marker": {
             "colorbar": {
              "outlinewidth": 0,
              "ticks": ""
             }
            },
            "type": "scattercarpet"
           }
          ],
          "scattergeo": [
           {
            "marker": {
             "colorbar": {
              "outlinewidth": 0,
              "ticks": ""
             }
            },
            "type": "scattergeo"
           }
          ],
          "scattergl": [
           {
            "marker": {
             "colorbar": {
              "outlinewidth": 0,
              "ticks": ""
             }
            },
            "type": "scattergl"
           }
          ],
          "scattermapbox": [
           {
            "marker": {
             "colorbar": {
              "outlinewidth": 0,
              "ticks": ""
             }
            },
            "type": "scattermapbox"
           }
          ],
          "scatterpolar": [
           {
            "marker": {
             "colorbar": {
              "outlinewidth": 0,
              "ticks": ""
             }
            },
            "type": "scatterpolar"
           }
          ],
          "scatterpolargl": [
           {
            "marker": {
             "colorbar": {
              "outlinewidth": 0,
              "ticks": ""
             }
            },
            "type": "scatterpolargl"
           }
          ],
          "scatterternary": [
           {
            "marker": {
             "colorbar": {
              "outlinewidth": 0,
              "ticks": ""
             }
            },
            "type": "scatterternary"
           }
          ],
          "surface": [
           {
            "colorbar": {
             "outlinewidth": 0,
             "ticks": ""
            },
            "colorscale": [
             [
              0,
              "#0d0887"
             ],
             [
              0.1111111111111111,
              "#46039f"
             ],
             [
              0.2222222222222222,
              "#7201a8"
             ],
             [
              0.3333333333333333,
              "#9c179e"
             ],
             [
              0.4444444444444444,
              "#bd3786"
             ],
             [
              0.5555555555555556,
              "#d8576b"
             ],
             [
              0.6666666666666666,
              "#ed7953"
             ],
             [
              0.7777777777777778,
              "#fb9f3a"
             ],
             [
              0.8888888888888888,
              "#fdca26"
             ],
             [
              1,
              "#f0f921"
             ]
            ],
            "type": "surface"
           }
          ],
          "table": [
           {
            "cells": {
             "fill": {
              "color": "#EBF0F8"
             },
             "line": {
              "color": "white"
             }
            },
            "header": {
             "fill": {
              "color": "#C8D4E3"
             },
             "line": {
              "color": "white"
             }
            },
            "type": "table"
           }
          ]
         },
         "layout": {
          "annotationdefaults": {
           "arrowcolor": "#2a3f5f",
           "arrowhead": 0,
           "arrowwidth": 1
          },
          "autotypenumbers": "strict",
          "coloraxis": {
           "colorbar": {
            "outlinewidth": 0,
            "ticks": ""
           }
          },
          "colorscale": {
           "diverging": [
            [
             0,
             "#8e0152"
            ],
            [
             0.1,
             "#c51b7d"
            ],
            [
             0.2,
             "#de77ae"
            ],
            [
             0.3,
             "#f1b6da"
            ],
            [
             0.4,
             "#fde0ef"
            ],
            [
             0.5,
             "#f7f7f7"
            ],
            [
             0.6,
             "#e6f5d0"
            ],
            [
             0.7,
             "#b8e186"
            ],
            [
             0.8,
             "#7fbc41"
            ],
            [
             0.9,
             "#4d9221"
            ],
            [
             1,
             "#276419"
            ]
           ],
           "sequential": [
            [
             0,
             "#0d0887"
            ],
            [
             0.1111111111111111,
             "#46039f"
            ],
            [
             0.2222222222222222,
             "#7201a8"
            ],
            [
             0.3333333333333333,
             "#9c179e"
            ],
            [
             0.4444444444444444,
             "#bd3786"
            ],
            [
             0.5555555555555556,
             "#d8576b"
            ],
            [
             0.6666666666666666,
             "#ed7953"
            ],
            [
             0.7777777777777778,
             "#fb9f3a"
            ],
            [
             0.8888888888888888,
             "#fdca26"
            ],
            [
             1,
             "#f0f921"
            ]
           ],
           "sequentialminus": [
            [
             0,
             "#0d0887"
            ],
            [
             0.1111111111111111,
             "#46039f"
            ],
            [
             0.2222222222222222,
             "#7201a8"
            ],
            [
             0.3333333333333333,
             "#9c179e"
            ],
            [
             0.4444444444444444,
             "#bd3786"
            ],
            [
             0.5555555555555556,
             "#d8576b"
            ],
            [
             0.6666666666666666,
             "#ed7953"
            ],
            [
             0.7777777777777778,
             "#fb9f3a"
            ],
            [
             0.8888888888888888,
             "#fdca26"
            ],
            [
             1,
             "#f0f921"
            ]
           ]
          },
          "colorway": [
           "#636efa",
           "#EF553B",
           "#00cc96",
           "#ab63fa",
           "#FFA15A",
           "#19d3f3",
           "#FF6692",
           "#B6E880",
           "#FF97FF",
           "#FECB52"
          ],
          "font": {
           "color": "#2a3f5f"
          },
          "geo": {
           "bgcolor": "white",
           "lakecolor": "white",
           "landcolor": "#E5ECF6",
           "showlakes": true,
           "showland": true,
           "subunitcolor": "white"
          },
          "hoverlabel": {
           "align": "left"
          },
          "hovermode": "closest",
          "mapbox": {
           "style": "light"
          },
          "paper_bgcolor": "white",
          "plot_bgcolor": "#E5ECF6",
          "polar": {
           "angularaxis": {
            "gridcolor": "white",
            "linecolor": "white",
            "ticks": ""
           },
           "bgcolor": "#E5ECF6",
           "radialaxis": {
            "gridcolor": "white",
            "linecolor": "white",
            "ticks": ""
           }
          },
          "scene": {
           "xaxis": {
            "backgroundcolor": "#E5ECF6",
            "gridcolor": "white",
            "gridwidth": 2,
            "linecolor": "white",
            "showbackground": true,
            "ticks": "",
            "zerolinecolor": "white"
           },
           "yaxis": {
            "backgroundcolor": "#E5ECF6",
            "gridcolor": "white",
            "gridwidth": 2,
            "linecolor": "white",
            "showbackground": true,
            "ticks": "",
            "zerolinecolor": "white"
           },
           "zaxis": {
            "backgroundcolor": "#E5ECF6",
            "gridcolor": "white",
            "gridwidth": 2,
            "linecolor": "white",
            "showbackground": true,
            "ticks": "",
            "zerolinecolor": "white"
           }
          },
          "shapedefaults": {
           "line": {
            "color": "#2a3f5f"
           }
          },
          "ternary": {
           "aaxis": {
            "gridcolor": "white",
            "linecolor": "white",
            "ticks": ""
           },
           "baxis": {
            "gridcolor": "white",
            "linecolor": "white",
            "ticks": ""
           },
           "bgcolor": "#E5ECF6",
           "caxis": {
            "gridcolor": "white",
            "linecolor": "white",
            "ticks": ""
           }
          },
          "title": {
           "x": 0.05
          },
          "xaxis": {
           "automargin": true,
           "gridcolor": "white",
           "linecolor": "white",
           "ticks": "",
           "title": {
            "standoff": 15
           },
           "zerolinecolor": "white",
           "zerolinewidth": 2
          },
          "yaxis": {
           "automargin": true,
           "gridcolor": "white",
           "linecolor": "white",
           "ticks": "",
           "title": {
            "standoff": 15
           },
           "zerolinecolor": "white",
           "zerolinewidth": 2
          }
         }
        },
        "title": {
         "text": "CPI as percent change from year ago before Inflation Reduction Act"
        },
        "xaxis": {
         "anchor": "y",
         "domain": [
          0,
          1
         ],
         "title": {
          "text": "index"
         }
        },
        "yaxis": {
         "anchor": "x",
         "domain": [
          0,
          1
         ],
         "title": {
          "text": "values"
         }
        }
       }
      }
     },
     "metadata": {},
     "output_type": "display_data"
    }
   ],
   "source": [
    "fig = px.line(df_pre_ira, x = 'index', y = 'values', title = 'CPI as percent change from year ago before Inflation Reduction Act')\n",
    "fig.show()"
   ]
  },
  {
   "cell_type": "code",
   "execution_count": 21,
   "metadata": {},
   "outputs": [],
   "source": [
    "df_pre_ira = df_pre_ira.rename(columns={'index' : \"ds\", 'values' : \"y\"})"
   ]
  },
  {
   "cell_type": "markdown",
   "metadata": {},
   "source": [
    "### Forecast inflation using pre IRA trend "
   ]
  },
  {
   "cell_type": "code",
   "execution_count": null,
   "metadata": {},
   "outputs": [],
   "source": [
    "from prophet import Prophet\n",
    "\n",
    "ml = Prophet()\n",
    "ml.fit(df_pre_ira)\n"
   ]
  },
  {
   "cell_type": "code",
   "execution_count": 23,
   "metadata": {},
   "outputs": [],
   "source": [
    "future = ml.make_future_dataframe(periods = 21, freq = 'MS')"
   ]
  },
  {
   "cell_type": "code",
   "execution_count": 24,
   "metadata": {},
   "outputs": [
    {
     "data": {
      "text/html": [
       "<div>\n",
       "<style scoped>\n",
       "    .dataframe tbody tr th:only-of-type {\n",
       "        vertical-align: middle;\n",
       "    }\n",
       "\n",
       "    .dataframe tbody tr th {\n",
       "        vertical-align: top;\n",
       "    }\n",
       "\n",
       "    .dataframe thead th {\n",
       "        text-align: right;\n",
       "    }\n",
       "</style>\n",
       "<table border=\"1\" class=\"dataframe\">\n",
       "  <thead>\n",
       "    <tr style=\"text-align: right;\">\n",
       "      <th></th>\n",
       "      <th>ds</th>\n",
       "      <th>yhat</th>\n",
       "      <th>yhat_lower</th>\n",
       "      <th>yhat_upper</th>\n",
       "    </tr>\n",
       "  </thead>\n",
       "  <tbody>\n",
       "    <tr>\n",
       "      <th>0</th>\n",
       "      <td>2016-01-01</td>\n",
       "      <td>1.644520</td>\n",
       "      <td>0.685084</td>\n",
       "      <td>2.532401</td>\n",
       "    </tr>\n",
       "    <tr>\n",
       "      <th>1</th>\n",
       "      <td>2016-02-01</td>\n",
       "      <td>1.303134</td>\n",
       "      <td>0.402440</td>\n",
       "      <td>2.224768</td>\n",
       "    </tr>\n",
       "    <tr>\n",
       "      <th>2</th>\n",
       "      <td>2016-03-01</td>\n",
       "      <td>1.717563</td>\n",
       "      <td>0.763605</td>\n",
       "      <td>2.674984</td>\n",
       "    </tr>\n",
       "    <tr>\n",
       "      <th>3</th>\n",
       "      <td>2016-04-01</td>\n",
       "      <td>1.587516</td>\n",
       "      <td>0.693713</td>\n",
       "      <td>2.529432</td>\n",
       "    </tr>\n",
       "    <tr>\n",
       "      <th>4</th>\n",
       "      <td>2016-05-01</td>\n",
       "      <td>1.605252</td>\n",
       "      <td>0.611445</td>\n",
       "      <td>2.609102</td>\n",
       "    </tr>\n",
       "    <tr>\n",
       "      <th>...</th>\n",
       "      <td>...</td>\n",
       "      <td>...</td>\n",
       "      <td>...</td>\n",
       "      <td>...</td>\n",
       "    </tr>\n",
       "    <tr>\n",
       "      <th>95</th>\n",
       "      <td>2023-12-01</td>\n",
       "      <td>13.550392</td>\n",
       "      <td>12.563687</td>\n",
       "      <td>14.636210</td>\n",
       "    </tr>\n",
       "    <tr>\n",
       "      <th>96</th>\n",
       "      <td>2024-01-01</td>\n",
       "      <td>13.423039</td>\n",
       "      <td>12.321786</td>\n",
       "      <td>14.499753</td>\n",
       "    </tr>\n",
       "    <tr>\n",
       "      <th>97</th>\n",
       "      <td>2024-02-01</td>\n",
       "      <td>13.367540</td>\n",
       "      <td>12.261146</td>\n",
       "      <td>14.505269</td>\n",
       "    </tr>\n",
       "    <tr>\n",
       "      <th>98</th>\n",
       "      <td>2024-03-01</td>\n",
       "      <td>14.049411</td>\n",
       "      <td>12.959034</td>\n",
       "      <td>15.167185</td>\n",
       "    </tr>\n",
       "    <tr>\n",
       "      <th>99</th>\n",
       "      <td>2024-04-01</td>\n",
       "      <td>14.205251</td>\n",
       "      <td>13.089500</td>\n",
       "      <td>15.315321</td>\n",
       "    </tr>\n",
       "  </tbody>\n",
       "</table>\n",
       "<p>100 rows × 4 columns</p>\n",
       "</div>"
      ],
      "text/plain": [
       "           ds       yhat  yhat_lower  yhat_upper\n",
       "0  2016-01-01   1.644520    0.685084    2.532401\n",
       "1  2016-02-01   1.303134    0.402440    2.224768\n",
       "2  2016-03-01   1.717563    0.763605    2.674984\n",
       "3  2016-04-01   1.587516    0.693713    2.529432\n",
       "4  2016-05-01   1.605252    0.611445    2.609102\n",
       "..        ...        ...         ...         ...\n",
       "95 2023-12-01  13.550392   12.563687   14.636210\n",
       "96 2024-01-01  13.423039   12.321786   14.499753\n",
       "97 2024-02-01  13.367540   12.261146   14.505269\n",
       "98 2024-03-01  14.049411   12.959034   15.167185\n",
       "99 2024-04-01  14.205251   13.089500   15.315321\n",
       "\n",
       "[100 rows x 4 columns]"
      ]
     },
     "execution_count": 24,
     "metadata": {},
     "output_type": "execute_result"
    }
   ],
   "source": [
    "result = ml.predict(future)\n",
    "result[['ds', 'yhat', 'yhat_lower', 'yhat_upper']]"
   ]
  },
  {
   "cell_type": "code",
   "execution_count": 55,
   "metadata": {},
   "outputs": [
    {
     "name": "stderr",
     "output_type": "stream",
     "text": [
      "/Library/Frameworks/Python.framework/Versions/3.10/lib/python3.10/site-packages/prophet/plot.py:72: FutureWarning:\n",
      "\n",
      "The behavior of DatetimeProperties.to_pydatetime is deprecated, in a future version this will return a Series containing python datetime objects instead of an ndarray. To retain the old behavior, call `np.array` on the result\n",
      "\n",
      "/Library/Frameworks/Python.framework/Versions/3.10/lib/python3.10/site-packages/prophet/plot.py:73: FutureWarning:\n",
      "\n",
      "The behavior of DatetimeProperties.to_pydatetime is deprecated, in a future version this will return a Series containing python datetime objects instead of an ndarray. To retain the old behavior, call `np.array` on the result\n",
      "\n"
     ]
    },
    {
     "data": {
      "image/png": "[encoded data removed]",
      "text/plain": [
       "<Figure size 1000x600 with 1 Axes>"
      ]
     },
     "metadata": {},
     "output_type": "display_data"
    }
   ],
   "source": [
    "fig=ml.plot(result)"
   ]
  },
  {
   "cell_type": "code",
   "execution_count": 47,
   "metadata": {},
   "outputs": [
    {
     "data": {
      "text/html": [
       "<div>\n",
       "<style scoped>\n",
       "    .dataframe tbody tr th:only-of-type {\n",
       "        vertical-align: middle;\n",
       "    }\n",
       "\n",
       "    .dataframe tbody tr th {\n",
       "        vertical-align: top;\n",
       "    }\n",
       "\n",
       "    .dataframe thead th {\n",
       "        text-align: right;\n",
       "    }\n",
       "</style>\n",
       "<table border=\"1\" class=\"dataframe\">\n",
       "  <thead>\n",
       "    <tr style=\"text-align: right;\">\n",
       "      <th></th>\n",
       "      <th>ds</th>\n",
       "      <th>yhat</th>\n",
       "      <th>yhat_lower</th>\n",
       "      <th>yhat_upper</th>\n",
       "    </tr>\n",
       "  </thead>\n",
       "  <tbody>\n",
       "    <tr>\n",
       "      <th>79</th>\n",
       "      <td>2022-08-01</td>\n",
       "      <td>8.531504</td>\n",
       "      <td>7.562130</td>\n",
       "      <td>9.466565</td>\n",
       "    </tr>\n",
       "    <tr>\n",
       "      <th>80</th>\n",
       "      <td>2022-09-01</td>\n",
       "      <td>8.785398</td>\n",
       "      <td>7.821199</td>\n",
       "      <td>9.742982</td>\n",
       "    </tr>\n",
       "    <tr>\n",
       "      <th>81</th>\n",
       "      <td>2022-10-01</td>\n",
       "      <td>9.224819</td>\n",
       "      <td>8.301120</td>\n",
       "      <td>10.190775</td>\n",
       "    </tr>\n",
       "    <tr>\n",
       "      <th>82</th>\n",
       "      <td>2022-11-01</td>\n",
       "      <td>9.659324</td>\n",
       "      <td>8.754509</td>\n",
       "      <td>10.611717</td>\n",
       "    </tr>\n",
       "    <tr>\n",
       "      <th>83</th>\n",
       "      <td>2022-12-01</td>\n",
       "      <td>10.000160</td>\n",
       "      <td>9.154725</td>\n",
       "      <td>11.016316</td>\n",
       "    </tr>\n",
       "    <tr>\n",
       "      <th>84</th>\n",
       "      <td>2023-01-01</td>\n",
       "      <td>10.069916</td>\n",
       "      <td>9.064070</td>\n",
       "      <td>10.966541</td>\n",
       "    </tr>\n",
       "    <tr>\n",
       "      <th>85</th>\n",
       "      <td>2023-02-01</td>\n",
       "      <td>10.224486</td>\n",
       "      <td>9.280904</td>\n",
       "      <td>11.174336</td>\n",
       "    </tr>\n",
       "    <tr>\n",
       "      <th>86</th>\n",
       "      <td>2023-03-01</td>\n",
       "      <td>10.723322</td>\n",
       "      <td>9.819409</td>\n",
       "      <td>11.675596</td>\n",
       "    </tr>\n",
       "    <tr>\n",
       "      <th>87</th>\n",
       "      <td>2023-04-01</td>\n",
       "      <td>11.101359</td>\n",
       "      <td>10.122579</td>\n",
       "      <td>12.082340</td>\n",
       "    </tr>\n",
       "    <tr>\n",
       "      <th>88</th>\n",
       "      <td>2023-05-01</td>\n",
       "      <td>11.368604</td>\n",
       "      <td>10.369831</td>\n",
       "      <td>12.301783</td>\n",
       "    </tr>\n",
       "    <tr>\n",
       "      <th>89</th>\n",
       "      <td>2023-06-01</td>\n",
       "      <td>11.565291</td>\n",
       "      <td>10.622239</td>\n",
       "      <td>12.616363</td>\n",
       "    </tr>\n",
       "    <tr>\n",
       "      <th>90</th>\n",
       "      <td>2023-07-01</td>\n",
       "      <td>11.710981</td>\n",
       "      <td>10.753153</td>\n",
       "      <td>12.757899</td>\n",
       "    </tr>\n",
       "    <tr>\n",
       "      <th>91</th>\n",
       "      <td>2023-08-01</td>\n",
       "      <td>11.853192</td>\n",
       "      <td>10.867347</td>\n",
       "      <td>12.912663</td>\n",
       "    </tr>\n",
       "    <tr>\n",
       "      <th>92</th>\n",
       "      <td>2023-09-01</td>\n",
       "      <td>12.060685</td>\n",
       "      <td>10.974770</td>\n",
       "      <td>13.129606</td>\n",
       "    </tr>\n",
       "    <tr>\n",
       "      <th>93</th>\n",
       "      <td>2023-10-01</td>\n",
       "      <td>12.636056</td>\n",
       "      <td>11.601603</td>\n",
       "      <td>13.657818</td>\n",
       "    </tr>\n",
       "    <tr>\n",
       "      <th>94</th>\n",
       "      <td>2023-11-01</td>\n",
       "      <td>13.203668</td>\n",
       "      <td>12.187123</td>\n",
       "      <td>14.247558</td>\n",
       "    </tr>\n",
       "    <tr>\n",
       "      <th>95</th>\n",
       "      <td>2023-12-01</td>\n",
       "      <td>13.550392</td>\n",
       "      <td>12.563687</td>\n",
       "      <td>14.636210</td>\n",
       "    </tr>\n",
       "    <tr>\n",
       "      <th>96</th>\n",
       "      <td>2024-01-01</td>\n",
       "      <td>13.423039</td>\n",
       "      <td>12.321786</td>\n",
       "      <td>14.499753</td>\n",
       "    </tr>\n",
       "    <tr>\n",
       "      <th>97</th>\n",
       "      <td>2024-02-01</td>\n",
       "      <td>13.367540</td>\n",
       "      <td>12.261146</td>\n",
       "      <td>14.505269</td>\n",
       "    </tr>\n",
       "    <tr>\n",
       "      <th>98</th>\n",
       "      <td>2024-03-01</td>\n",
       "      <td>14.049411</td>\n",
       "      <td>12.959034</td>\n",
       "      <td>15.167185</td>\n",
       "    </tr>\n",
       "    <tr>\n",
       "      <th>99</th>\n",
       "      <td>2024-04-01</td>\n",
       "      <td>14.205251</td>\n",
       "      <td>13.089500</td>\n",
       "      <td>15.315321</td>\n",
       "    </tr>\n",
       "  </tbody>\n",
       "</table>\n",
       "</div>"
      ],
      "text/plain": [
       "           ds       yhat  yhat_lower  yhat_upper\n",
       "79 2022-08-01   8.531504    7.562130    9.466565\n",
       "80 2022-09-01   8.785398    7.821199    9.742982\n",
       "81 2022-10-01   9.224819    8.301120   10.190775\n",
       "82 2022-11-01   9.659324    8.754509   10.611717\n",
       "83 2022-12-01  10.000160    9.154725   11.016316\n",
       "84 2023-01-01  10.069916    9.064070   10.966541\n",
       "85 2023-02-01  10.224486    9.280904   11.174336\n",
       "86 2023-03-01  10.723322    9.819409   11.675596\n",
       "87 2023-04-01  11.101359   10.122579   12.082340\n",
       "88 2023-05-01  11.368604   10.369831   12.301783\n",
       "89 2023-06-01  11.565291   10.622239   12.616363\n",
       "90 2023-07-01  11.710981   10.753153   12.757899\n",
       "91 2023-08-01  11.853192   10.867347   12.912663\n",
       "92 2023-09-01  12.060685   10.974770   13.129606\n",
       "93 2023-10-01  12.636056   11.601603   13.657818\n",
       "94 2023-11-01  13.203668   12.187123   14.247558\n",
       "95 2023-12-01  13.550392   12.563687   14.636210\n",
       "96 2024-01-01  13.423039   12.321786   14.499753\n",
       "97 2024-02-01  13.367540   12.261146   14.505269\n",
       "98 2024-03-01  14.049411   12.959034   15.167185\n",
       "99 2024-04-01  14.205251   13.089500   15.315321"
      ]
     },
     "execution_count": 47,
     "metadata": {},
     "output_type": "execute_result"
    }
   ],
   "source": [
    "forecasted_cpi = result[result['ds'] >= '2022-08-01']\n",
    "forecasted_cpi = forecasted_cpi[['ds', 'yhat', 'yhat_lower', 'yhat_upper']]\n",
    "forecasted_cpi"
   ]
  },
  {
   "cell_type": "code",
   "execution_count": 48,
   "metadata": {},
   "outputs": [
    {
     "data": {
      "text/html": [
       "<div>\n",
       "<style scoped>\n",
       "    .dataframe tbody tr th:only-of-type {\n",
       "        vertical-align: middle;\n",
       "    }\n",
       "\n",
       "    .dataframe tbody tr th {\n",
       "        vertical-align: top;\n",
       "    }\n",
       "\n",
       "    .dataframe thead th {\n",
       "        text-align: right;\n",
       "    }\n",
       "</style>\n",
       "<table border=\"1\" class=\"dataframe\">\n",
       "  <thead>\n",
       "    <tr style=\"text-align: right;\">\n",
       "      <th></th>\n",
       "      <th>ds</th>\n",
       "      <th>y</th>\n",
       "      <th>yhat</th>\n",
       "      <th>yhat_lower</th>\n",
       "      <th>yhat_upper</th>\n",
       "    </tr>\n",
       "  </thead>\n",
       "  <tbody>\n",
       "    <tr>\n",
       "      <th>0</th>\n",
       "      <td>2022-08-01</td>\n",
       "      <td>8.21881</td>\n",
       "      <td>8.531504</td>\n",
       "      <td>7.562130</td>\n",
       "      <td>9.466565</td>\n",
       "    </tr>\n",
       "    <tr>\n",
       "      <th>1</th>\n",
       "      <td>2022-09-01</td>\n",
       "      <td>8.19827</td>\n",
       "      <td>8.785398</td>\n",
       "      <td>7.821199</td>\n",
       "      <td>9.742982</td>\n",
       "    </tr>\n",
       "    <tr>\n",
       "      <th>2</th>\n",
       "      <td>2022-10-01</td>\n",
       "      <td>7.75194</td>\n",
       "      <td>9.224819</td>\n",
       "      <td>8.301120</td>\n",
       "      <td>10.190775</td>\n",
       "    </tr>\n",
       "    <tr>\n",
       "      <th>3</th>\n",
       "      <td>2022-11-01</td>\n",
       "      <td>7.11947</td>\n",
       "      <td>9.659324</td>\n",
       "      <td>8.754509</td>\n",
       "      <td>10.611717</td>\n",
       "    </tr>\n",
       "    <tr>\n",
       "      <th>4</th>\n",
       "      <td>2022-12-01</td>\n",
       "      <td>6.41150</td>\n",
       "      <td>10.000160</td>\n",
       "      <td>9.154725</td>\n",
       "      <td>11.016316</td>\n",
       "    </tr>\n",
       "    <tr>\n",
       "      <th>5</th>\n",
       "      <td>2023-01-01</td>\n",
       "      <td>6.36212</td>\n",
       "      <td>10.069916</td>\n",
       "      <td>9.064070</td>\n",
       "      <td>10.966541</td>\n",
       "    </tr>\n",
       "    <tr>\n",
       "      <th>6</th>\n",
       "      <td>2023-02-01</td>\n",
       "      <td>5.96552</td>\n",
       "      <td>10.224486</td>\n",
       "      <td>9.280904</td>\n",
       "      <td>11.174336</td>\n",
       "    </tr>\n",
       "    <tr>\n",
       "      <th>7</th>\n",
       "      <td>2023-03-01</td>\n",
       "      <td>4.93509</td>\n",
       "      <td>10.723322</td>\n",
       "      <td>9.819409</td>\n",
       "      <td>11.675596</td>\n",
       "    </tr>\n",
       "    <tr>\n",
       "      <th>8</th>\n",
       "      <td>2023-04-01</td>\n",
       "      <td>4.94106</td>\n",
       "      <td>11.101359</td>\n",
       "      <td>10.122579</td>\n",
       "      <td>12.082340</td>\n",
       "    </tr>\n",
       "    <tr>\n",
       "      <th>9</th>\n",
       "      <td>2023-05-01</td>\n",
       "      <td>4.12069</td>\n",
       "      <td>11.368604</td>\n",
       "      <td>10.369831</td>\n",
       "      <td>12.301783</td>\n",
       "    </tr>\n",
       "    <tr>\n",
       "      <th>10</th>\n",
       "      <td>2023-06-01</td>\n",
       "      <td>3.05326</td>\n",
       "      <td>11.565291</td>\n",
       "      <td>10.622239</td>\n",
       "      <td>12.616363</td>\n",
       "    </tr>\n",
       "    <tr>\n",
       "      <th>11</th>\n",
       "      <td>2023-07-01</td>\n",
       "      <td>3.27178</td>\n",
       "      <td>11.710981</td>\n",
       "      <td>10.753153</td>\n",
       "      <td>12.757899</td>\n",
       "    </tr>\n",
       "    <tr>\n",
       "      <th>12</th>\n",
       "      <td>2023-08-01</td>\n",
       "      <td>3.71872</td>\n",
       "      <td>11.853192</td>\n",
       "      <td>10.867347</td>\n",
       "      <td>12.912663</td>\n",
       "    </tr>\n",
       "    <tr>\n",
       "      <th>13</th>\n",
       "      <td>2023-09-01</td>\n",
       "      <td>3.69406</td>\n",
       "      <td>12.060685</td>\n",
       "      <td>10.974770</td>\n",
       "      <td>13.129606</td>\n",
       "    </tr>\n",
       "    <tr>\n",
       "      <th>14</th>\n",
       "      <td>2023-10-01</td>\n",
       "      <td>3.24579</td>\n",
       "      <td>12.636056</td>\n",
       "      <td>11.601603</td>\n",
       "      <td>13.657818</td>\n",
       "    </tr>\n",
       "    <tr>\n",
       "      <th>15</th>\n",
       "      <td>2023-11-01</td>\n",
       "      <td>3.13948</td>\n",
       "      <td>13.203668</td>\n",
       "      <td>12.187123</td>\n",
       "      <td>14.247558</td>\n",
       "    </tr>\n",
       "    <tr>\n",
       "      <th>16</th>\n",
       "      <td>2023-12-01</td>\n",
       "      <td>3.32316</td>\n",
       "      <td>13.550392</td>\n",
       "      <td>12.563687</td>\n",
       "      <td>14.636210</td>\n",
       "    </tr>\n",
       "    <tr>\n",
       "      <th>17</th>\n",
       "      <td>2024-01-01</td>\n",
       "      <td>3.10598</td>\n",
       "      <td>13.423039</td>\n",
       "      <td>12.321786</td>\n",
       "      <td>14.499753</td>\n",
       "    </tr>\n",
       "    <tr>\n",
       "      <th>18</th>\n",
       "      <td>2024-02-01</td>\n",
       "      <td>3.16574</td>\n",
       "      <td>13.367540</td>\n",
       "      <td>12.261146</td>\n",
       "      <td>14.505269</td>\n",
       "    </tr>\n",
       "    <tr>\n",
       "      <th>19</th>\n",
       "      <td>2024-03-01</td>\n",
       "      <td>3.47513</td>\n",
       "      <td>14.049411</td>\n",
       "      <td>12.959034</td>\n",
       "      <td>15.167185</td>\n",
       "    </tr>\n",
       "    <tr>\n",
       "      <th>20</th>\n",
       "      <td>2024-04-01</td>\n",
       "      <td>3.35773</td>\n",
       "      <td>14.205251</td>\n",
       "      <td>13.089500</td>\n",
       "      <td>15.315321</td>\n",
       "    </tr>\n",
       "  </tbody>\n",
       "</table>\n",
       "</div>"
      ],
      "text/plain": [
       "           ds        y       yhat  yhat_lower  yhat_upper\n",
       "0  2022-08-01  8.21881   8.531504    7.562130    9.466565\n",
       "1  2022-09-01  8.19827   8.785398    7.821199    9.742982\n",
       "2  2022-10-01  7.75194   9.224819    8.301120   10.190775\n",
       "3  2022-11-01  7.11947   9.659324    8.754509   10.611717\n",
       "4  2022-12-01  6.41150  10.000160    9.154725   11.016316\n",
       "5  2023-01-01  6.36212  10.069916    9.064070   10.966541\n",
       "6  2023-02-01  5.96552  10.224486    9.280904   11.174336\n",
       "7  2023-03-01  4.93509  10.723322    9.819409   11.675596\n",
       "8  2023-04-01  4.94106  11.101359   10.122579   12.082340\n",
       "9  2023-05-01  4.12069  11.368604   10.369831   12.301783\n",
       "10 2023-06-01  3.05326  11.565291   10.622239   12.616363\n",
       "11 2023-07-01  3.27178  11.710981   10.753153   12.757899\n",
       "12 2023-08-01  3.71872  11.853192   10.867347   12.912663\n",
       "13 2023-09-01  3.69406  12.060685   10.974770   13.129606\n",
       "14 2023-10-01  3.24579  12.636056   11.601603   13.657818\n",
       "15 2023-11-01  3.13948  13.203668   12.187123   14.247558\n",
       "16 2023-12-01  3.32316  13.550392   12.563687   14.636210\n",
       "17 2024-01-01  3.10598  13.423039   12.321786   14.499753\n",
       "18 2024-02-01  3.16574  13.367540   12.261146   14.505269\n",
       "19 2024-03-01  3.47513  14.049411   12.959034   15.167185\n",
       "20 2024-04-01  3.35773  14.205251   13.089500   15.315321"
      ]
     },
     "execution_count": 48,
     "metadata": {},
     "output_type": "execute_result"
    }
   ],
   "source": [
    "df_post_ira = df_post_ira.rename(columns={'index' : \"ds\", 'values' : \"y\"})\n",
    "merged_df = pd.merge(df_post_ira, forecasted_cpi, on = 'ds')\n",
    "merged_df"
   ]
  },
  {
   "cell_type": "markdown",
   "metadata": {},
   "source": [
    "### Visualize the difference between forecasted and real inflation "
   ]
  },
  {
   "cell_type": "code",
   "execution_count": 49,
   "metadata": {},
   "outputs": [
    {
     "data": {
      "application/vnd.plotly.v1+json": {
       "config": {
        "plotlyServerURL": "https://plot.ly"
       },
       "data": [
        {
         "hovertemplate": "ds=%{x}<br>y=%{y}<extra></extra>",
         "legendgroup": "",
         "line": {
          "color": "#636efa",
          "dash": "solid"
         },
         "marker": {
          "symbol": "circle"
         },
         "mode": "lines",
         "name": "",
         "orientation": "v",
         "showlegend": false,
         "type": "scatter",
         "x": [
          "2022-08-01T00:00:00",
          "2022-09-01T00:00:00",
          "2022-10-01T00:00:00",
          "2022-11-01T00:00:00",
          "2022-12-01T00:00:00",
          "2023-01-01T00:00:00",
          "2023-02-01T00:00:00",
          "2023-03-01T00:00:00",
          "2023-04-01T00:00:00",
          "2023-05-01T00:00:00",
          "2023-06-01T00:00:00",
          "2023-07-01T00:00:00",
          "2023-08-01T00:00:00",
          "2023-09-01T00:00:00",
          "2023-10-01T00:00:00",
          "2023-11-01T00:00:00",
          "2023-12-01T00:00:00",
          "2024-01-01T00:00:00",
          "2024-02-01T00:00:00",
          "2024-03-01T00:00:00",
          "2024-04-01T00:00:00"
         ],
         "xaxis": "x",
         "y": [
          8.21881,
          8.19827,
          7.75194,
          7.11947,
          6.4115,
          6.36212,
          5.96552,
          4.93509,
          4.94106,
          4.12069,
          3.05326,
          3.27178,
          3.71872,
          3.69406,
          3.24579,
          3.13948,
          3.32316,
          3.10598,
          3.16574,
          3.47513,
          3.35773
         ],
         "yaxis": "y"
        },
        {
         "name": "Forecasted CPI",
         "type": "scatter",
         "x": [
          "2022-08-01T00:00:00",
          "2022-09-01T00:00:00",
          "2022-10-01T00:00:00",
          "2022-11-01T00:00:00",
          "2022-12-01T00:00:00",
          "2023-01-01T00:00:00",
          "2023-02-01T00:00:00",
          "2023-03-01T00:00:00",
          "2023-04-01T00:00:00",
          "2023-05-01T00:00:00",
          "2023-06-01T00:00:00",
          "2023-07-01T00:00:00",
          "2023-08-01T00:00:00",
          "2023-09-01T00:00:00",
          "2023-10-01T00:00:00",
          "2023-11-01T00:00:00",
          "2023-12-01T00:00:00",
          "2024-01-01T00:00:00",
          "2024-02-01T00:00:00",
          "2024-03-01T00:00:00",
          "2024-04-01T00:00:00"
         ],
         "y": [
          8.531504458559844,
          8.785397501689177,
          9.224818702123164,
          9.659323924871613,
          10.000159845135212,
          10.069915950048099,
          10.224485819657675,
          10.723321791408777,
          11.101358582591388,
          11.36860445947961,
          11.565290826042942,
          11.710981040224523,
          11.853191940887138,
          12.060685072220988,
          12.636056020692674,
          13.203667959387884,
          13.55039205207165,
          13.423038926739252,
          13.367540118973118,
          14.049411143588586,
          14.205250902986664
         ]
        },
        {
         "name": "Lower Bound - Forecasted CPI",
         "type": "scatter",
         "x": [
          "2022-08-01T00:00:00",
          "2022-09-01T00:00:00",
          "2022-10-01T00:00:00",
          "2022-11-01T00:00:00",
          "2022-12-01T00:00:00",
          "2023-01-01T00:00:00",
          "2023-02-01T00:00:00",
          "2023-03-01T00:00:00",
          "2023-04-01T00:00:00",
          "2023-05-01T00:00:00",
          "2023-06-01T00:00:00",
          "2023-07-01T00:00:00",
          "2023-08-01T00:00:00",
          "2023-09-01T00:00:00",
          "2023-10-01T00:00:00",
          "2023-11-01T00:00:00",
          "2023-12-01T00:00:00",
          "2024-01-01T00:00:00",
          "2024-02-01T00:00:00",
          "2024-03-01T00:00:00",
          "2024-04-01T00:00:00"
         ],
         "y": [
          7.56213026067447,
          7.8211991499788525,
          8.301119657356578,
          8.754508632480768,
          9.15472468170768,
          9.064070418561904,
          9.280904391692532,
          9.819408963071268,
          10.122578793364598,
          10.369831156101903,
          10.62223912439669,
          10.753153105993341,
          10.867346665281474,
          10.974769739628417,
          11.601603371567586,
          12.187123014396823,
          12.563687148522733,
          12.321785604138162,
          12.261146085159739,
          12.959033951610193,
          13.089499846201416
         ]
        }
       ],
       "layout": {
        "legend": {
         "tracegroupgap": 0
        },
        "template": {
         "data": {
          "bar": [
           {
            "error_x": {
             "color": "#2a3f5f"
            },
            "error_y": {
             "color": "#2a3f5f"
            },
            "marker": {
             "line": {
              "color": "#E5ECF6",
              "width": 0.5
             },
             "pattern": {
              "fillmode": "overlay",
              "size": 10,
              "solidity": 0.2
             }
            },
            "type": "bar"
           }
          ],
          "barpolar": [
           {
            "marker": {
             "line": {
              "color": "#E5ECF6",
              "width": 0.5
             },
             "pattern": {
              "fillmode": "overlay",
              "size": 10,
              "solidity": 0.2
             }
            },
            "type": "barpolar"
           }
          ],
          "carpet": [
           {
            "aaxis": {
             "endlinecolor": "#2a3f5f",
             "gridcolor": "white",
             "linecolor": "white",
             "minorgridcolor": "white",
             "startlinecolor": "#2a3f5f"
            },
            "baxis": {
             "endlinecolor": "#2a3f5f",
             "gridcolor": "white",
             "linecolor": "white",
             "minorgridcolor": "white",
             "startlinecolor": "#2a3f5f"
            },
            "type": "carpet"
           }
          ],
          "choropleth": [
           {
            "colorbar": {
             "outlinewidth": 0,
             "ticks": ""
            },
            "type": "choropleth"
           }
          ],
          "contour": [
           {
            "colorbar": {
             "outlinewidth": 0,
             "ticks": ""
            },
            "colorscale": [
             [
              0,
              "#0d0887"
             ],
             [
              0.1111111111111111,
              "#46039f"
             ],
             [
              0.2222222222222222,
              "#7201a8"
             ],
             [
              0.3333333333333333,
              "#9c179e"
             ],
             [
              0.4444444444444444,
              "#bd3786"
             ],
             [
              0.5555555555555556,
              "#d8576b"
             ],
             [
              0.6666666666666666,
              "#ed7953"
             ],
             [
              0.7777777777777778,
              "#fb9f3a"
             ],
             [
              0.8888888888888888,
              "#fdca26"
             ],
             [
              1,
              "#f0f921"
             ]
            ],
            "type": "contour"
           }
          ],
          "contourcarpet": [
           {
            "colorbar": {
             "outlinewidth": 0,
             "ticks": ""
            },
            "type": "contourcarpet"
           }
          ],
          "heatmap": [
           {
            "colorbar": {
             "outlinewidth": 0,
             "ticks": ""
            },
            "colorscale": [
             [
              0,
              "#0d0887"
             ],
             [
              0.1111111111111111,
              "#46039f"
             ],
             [
              0.2222222222222222,
              "#7201a8"
             ],
             [
              0.3333333333333333,
              "#9c179e"
             ],
             [
              0.4444444444444444,
              "#bd3786"
             ],
             [
              0.5555555555555556,
              "#d8576b"
             ],
             [
              0.6666666666666666,
              "#ed7953"
             ],
             [
              0.7777777777777778,
              "#fb9f3a"
             ],
             [
              0.8888888888888888,
              "#fdca26"
             ],
             [
              1,
              "#f0f921"
             ]
            ],
            "type": "heatmap"
           }
          ],
          "heatmapgl": [
           {
            "colorbar": {
             "outlinewidth": 0,
             "ticks": ""
            },
            "colorscale": [
             [
              0,
              "#0d0887"
             ],
             [
              0.1111111111111111,
              "#46039f"
             ],
             [
              0.2222222222222222,
              "#7201a8"
             ],
             [
              0.3333333333333333,
              "#9c179e"
             ],
             [
              0.4444444444444444,
              "#bd3786"
             ],
             [
              0.5555555555555556,
              "#d8576b"
             ],
             [
              0.6666666666666666,
              "#ed7953"
             ],
             [
              0.7777777777777778,
              "#fb9f3a"
             ],
             [
              0.8888888888888888,
              "#fdca26"
             ],
             [
              1,
              "#f0f921"
             ]
            ],
            "type": "heatmapgl"
           }
          ],
          "histogram": [
           {
            "marker": {
             "pattern": {
              "fillmode": "overlay",
              "size": 10,
              "solidity": 0.2
             }
            },
            "type": "histogram"
           }
          ],
          "histogram2d": [
           {
            "colorbar": {
             "outlinewidth": 0,
             "ticks": ""
            },
            "colorscale": [
             [
              0,
              "#0d0887"
             ],
             [
              0.1111111111111111,
              "#46039f"
             ],
             [
              0.2222222222222222,
              "#7201a8"
             ],
             [
              0.3333333333333333,
              "#9c179e"
             ],
             [
              0.4444444444444444,
              "#bd3786"
             ],
             [
              0.5555555555555556,
              "#d8576b"
             ],
             [
              0.6666666666666666,
              "#ed7953"
             ],
             [
              0.7777777777777778,
              "#fb9f3a"
             ],
             [
              0.8888888888888888,
              "#fdca26"
             ],
             [
              1,
              "#f0f921"
             ]
            ],
            "type": "histogram2d"
           }
          ],
          "histogram2dcontour": [
           {
            "colorbar": {
             "outlinewidth": 0,
             "ticks": ""
            },
            "colorscale": [
             [
              0,
              "#0d0887"
             ],
             [
              0.1111111111111111,
              "#46039f"
             ],
             [
              0.2222222222222222,
              "#7201a8"
             ],
             [
              0.3333333333333333,
              "#9c179e"
             ],
             [
              0.4444444444444444,
              "#bd3786"
             ],
             [
              0.5555555555555556,
              "#d8576b"
             ],
             [
              0.6666666666666666,
              "#ed7953"
             ],
             [
              0.7777777777777778,
              "#fb9f3a"
             ],
             [
              0.8888888888888888,
              "#fdca26"
             ],
             [
              1,
              "#f0f921"
             ]
            ],
            "type": "histogram2dcontour"
           }
          ],
          "mesh3d": [
           {
            "colorbar": {
             "outlinewidth": 0,
             "ticks": ""
            },
            "type": "mesh3d"
           }
          ],
          "parcoords": [
           {
            "line": {
             "colorbar": {
              "outlinewidth": 0,
              "ticks": ""
             }
            },
            "type": "parcoords"
           }
          ],
          "pie": [
           {
            "automargin": true,
            "type": "pie"
           }
          ],
          "scatter": [
           {
            "fillpattern": {
             "fillmode": "overlay",
             "size": 10,
             "solidity": 0.2
            },
            "type": "scatter"
           }
          ],
          "scatter3d": [
           {
            "line": {
             "colorbar": {
              "outlinewidth": 0,
              "ticks": ""
             }
            },
            "marker": {
             "colorbar": {
              "outlinewidth": 0,
              "ticks": ""
             }
            },
            "type": "scatter3d"
           }
          ],
          "scattercarpet": [
           {
            "marker": {
             "colorbar": {
              "outlinewidth": 0,
              "ticks": ""
             }
            },
            "type": "scattercarpet"
           }
          ],
          "scattergeo": [
           {
            "marker": {
             "colorbar": {
              "outlinewidth": 0,
              "ticks": ""
             }
            },
            "type": "scattergeo"
           }
          ],
          "scattergl": [
           {
            "marker": {
             "colorbar": {
              "outlinewidth": 0,
              "ticks": ""
             }
            },
            "type": "scattergl"
           }
          ],
          "scattermapbox": [
           {
            "marker": {
             "colorbar": {
              "outlinewidth": 0,
              "ticks": ""
             }
            },
            "type": "scattermapbox"
           }
          ],
          "scatterpolar": [
           {
            "marker": {
             "colorbar": {
              "outlinewidth": 0,
              "ticks": ""
             }
            },
            "type": "scatterpolar"
           }
          ],
          "scatterpolargl": [
           {
            "marker": {
             "colorbar": {
              "outlinewidth": 0,
              "ticks": ""
             }
            },
            "type": "scatterpolargl"
           }
          ],
          "scatterternary": [
           {
            "marker": {
             "colorbar": {
              "outlinewidth": 0,
              "ticks": ""
             }
            },
            "type": "scatterternary"
           }
          ],
          "surface": [
           {
            "colorbar": {
             "outlinewidth": 0,
             "ticks": ""
            },
            "colorscale": [
             [
              0,
              "#0d0887"
             ],
             [
              0.1111111111111111,
              "#46039f"
             ],
             [
              0.2222222222222222,
              "#7201a8"
             ],
             [
              0.3333333333333333,
              "#9c179e"
             ],
             [
              0.4444444444444444,
              "#bd3786"
             ],
             [
              0.5555555555555556,
              "#d8576b"
             ],
             [
              0.6666666666666666,
              "#ed7953"
             ],
             [
              0.7777777777777778,
              "#fb9f3a"
             ],
             [
              0.8888888888888888,
              "#fdca26"
             ],
             [
              1,
              "#f0f921"
             ]
            ],
            "type": "surface"
           }
          ],
          "table": [
           {
            "cells": {
             "fill": {
              "color": "#EBF0F8"
             },
             "line": {
              "color": "white"
             }
            },
            "header": {
             "fill": {
              "color": "#C8D4E3"
             },
             "line": {
              "color": "white"
             }
            },
            "type": "table"
           }
          ]
         },
         "layout": {
          "annotationdefaults": {
           "arrowcolor": "#2a3f5f",
           "arrowhead": 0,
           "arrowwidth": 1
          },
          "autotypenumbers": "strict",
          "coloraxis": {
           "colorbar": {
            "outlinewidth": 0,
            "ticks": ""
           }
          },
          "colorscale": {
           "diverging": [
            [
             0,
             "#8e0152"
            ],
            [
             0.1,
             "#c51b7d"
            ],
            [
             0.2,
             "#de77ae"
            ],
            [
             0.3,
             "#f1b6da"
            ],
            [
             0.4,
             "#fde0ef"
            ],
            [
             0.5,
             "#f7f7f7"
            ],
            [
             0.6,
             "#e6f5d0"
            ],
            [
             0.7,
             "#b8e186"
            ],
            [
             0.8,
             "#7fbc41"
            ],
            [
             0.9,
             "#4d9221"
            ],
            [
             1,
             "#276419"
            ]
           ],
           "sequential": [
            [
             0,
             "#0d0887"
            ],
            [
             0.1111111111111111,
             "#46039f"
            ],
            [
             0.2222222222222222,
             "#7201a8"
            ],
            [
             0.3333333333333333,
             "#9c179e"
            ],
            [
             0.4444444444444444,
             "#bd3786"
            ],
            [
             0.5555555555555556,
             "#d8576b"
            ],
            [
             0.6666666666666666,
             "#ed7953"
            ],
            [
             0.7777777777777778,
             "#fb9f3a"
            ],
            [
             0.8888888888888888,
             "#fdca26"
            ],
            [
             1,
             "#f0f921"
            ]
           ],
           "sequentialminus": [
            [
             0,
             "#0d0887"
            ],
            [
             0.1111111111111111,
             "#46039f"
            ],
            [
             0.2222222222222222,
             "#7201a8"
            ],
            [
             0.3333333333333333,
             "#9c179e"
            ],
            [
             0.4444444444444444,
             "#bd3786"
            ],
            [
             0.5555555555555556,
             "#d8576b"
            ],
            [
             0.6666666666666666,
             "#ed7953"
            ],
            [
             0.7777777777777778,
             "#fb9f3a"
            ],
            [
             0.8888888888888888,
             "#fdca26"
            ],
            [
             1,
             "#f0f921"
            ]
           ]
          },
          "colorway": [
           "#636efa",
           "#EF553B",
           "#00cc96",
           "#ab63fa",
           "#FFA15A",
           "#19d3f3",
           "#FF6692",
           "#B6E880",
           "#FF97FF",
           "#FECB52"
          ],
          "font": {
           "color": "#2a3f5f"
          },
          "geo": {
           "bgcolor": "white",
           "lakecolor": "white",
           "landcolor": "#E5ECF6",
           "showlakes": true,
           "showland": true,
           "subunitcolor": "white"
          },
          "hoverlabel": {
           "align": "left"
          },
          "hovermode": "closest",
          "mapbox": {
           "style": "light"
          },
          "paper_bgcolor": "white",
          "plot_bgcolor": "#E5ECF6",
          "polar": {
           "angularaxis": {
            "gridcolor": "white",
            "linecolor": "white",
            "ticks": ""
           },
           "bgcolor": "#E5ECF6",
           "radialaxis": {
            "gridcolor": "white",
            "linecolor": "white",
            "ticks": ""
           }
          },
          "scene": {
           "xaxis": {
            "backgroundcolor": "#E5ECF6",
            "gridcolor": "white",
            "gridwidth": 2,
            "linecolor": "white",
            "showbackground": true,
            "ticks": "",
            "zerolinecolor": "white"
           },
           "yaxis": {
            "backgroundcolor": "#E5ECF6",
            "gridcolor": "white",
            "gridwidth": 2,
            "linecolor": "white",
            "showbackground": true,
            "ticks": "",
            "zerolinecolor": "white"
           },
           "zaxis": {
            "backgroundcolor": "#E5ECF6",
            "gridcolor": "white",
            "gridwidth": 2,
            "linecolor": "white",
            "showbackground": true,
            "ticks": "",
            "zerolinecolor": "white"
           }
          },
          "shapedefaults": {
           "line": {
            "color": "#2a3f5f"
           }
          },
          "ternary": {
           "aaxis": {
            "gridcolor": "white",
            "linecolor": "white",
            "ticks": ""
           },
           "baxis": {
            "gridcolor": "white",
            "linecolor": "white",
            "ticks": ""
           },
           "bgcolor": "#E5ECF6",
           "caxis": {
            "gridcolor": "white",
            "linecolor": "white",
            "ticks": ""
           }
          },
          "title": {
           "x": 0.05
          },
          "xaxis": {
           "automargin": true,
           "gridcolor": "white",
           "linecolor": "white",
           "ticks": "",
           "title": {
            "standoff": 15
           },
           "zerolinecolor": "white",
           "zerolinewidth": 2
          },
          "yaxis": {
           "automargin": true,
           "gridcolor": "white",
           "linecolor": "white",
           "ticks": "",
           "title": {
            "standoff": 15
           },
           "zerolinecolor": "white",
           "zerolinewidth": 2
          }
         }
        },
        "title": {
         "text": "CPI as percent change from year ago after Inflation Reduction Act"
        },
        "xaxis": {
         "anchor": "y",
         "domain": [
          0,
          1
         ],
         "title": {
          "text": "ds"
         }
        },
        "yaxis": {
         "anchor": "x",
         "domain": [
          0,
          1
         ],
         "title": {
          "text": "y"
         }
        }
       }
      }
     },
     "metadata": {},
     "output_type": "display_data"
    }
   ],
   "source": [
    "#plot the difference between projected inflation and actual \n",
    "fig = px.line(merged_df, x = 'ds', y = 'y', title = 'CPI as percent change from year ago after Inflation Reduction Act')\n",
    "fig.add_scatter(x = merged_df['ds'], y = merged_df['yhat'], name='Forecasted CPI')\n",
    "fig.add_scatter(x = merged_df['ds'], y = merged_df['yhat_lower'], name='Lower Bound - Forecasted CPI')\n",
    "fig.show()"
   ]
  },
  {
   "cell_type": "markdown",
   "metadata": {},
   "source": [
    "### Measure the effectiveness of IRA "
   ]
  },
  {
   "cell_type": "markdown",
   "metadata": {},
   "source": [
    "To be the most accurate we can measure the difference between the forecasted value and the lower bound of the forecast"
   ]
  },
  {
   "cell_type": "code",
   "execution_count": 54,
   "metadata": {},
   "outputs": [
    {
     "name": "stdout",
     "output_type": "stream",
     "text": [
      "Reduction from forecasted value: 6.7 percent points\n",
      "Reduction from lower-bound forecasted value: 5.81 percent points\n",
      "Reduction from value when IRA went into affect: 4.86 percent points\n"
     ]
    }
   ],
   "source": [
    "from sklearn.metrics import mean_absolute_error\n",
    "\n",
    "\n",
    "\n",
    "\n",
    "mae = mean_absolute_error(merged_df[\"y\"], merged_df[\"yhat\"])\n",
    "mae_lower = mean_absolute_error(merged_df[\"y\"], merged_df[\"yhat_lower\"])\n",
    "\n",
    "\n",
    "drop = df_post_ira['y'].iloc[0] - df_post_ira['y'].iloc[-1]\n",
    "\n",
    "print(\"Reduction from forecasted value: \" + str(round(mae, 2)) + \" percent points\") \n",
    "print(\"Reduction from lower-bound forecasted value: \" + str(round(mae_lower, 2)) + \" percent points\")\n",
    "print(\"Reduction from value when IRA went into affect: \" + str(round(drop, 2)) + \" percent points\")\n",
    "\n"
   ]
  }
 ],
 "metadata": {
  "kernelspec": {
   "display_name": "Python 3",
   "language": "python",
   "name": "python3"
  },
  "language_info": {
   "codemirror_mode": {
    "name": "ipython",
    "version": 3
   },
   "file_extension": ".py",
   "mimetype": "text/x-python",
   "name": "python",
   "nbconvert_exporter": "python",
   "pygments_lexer": "ipython3",
   "version": "3.10.0"
  },
  "orig_nbformat": 4
 },
 "nbformat": 4,
 "nbformat_minor": 2
}
